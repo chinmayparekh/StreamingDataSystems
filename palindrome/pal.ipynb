{
 "cells": [
  {
   "cell_type": "code",
   "execution_count": 1,
   "metadata": {},
   "outputs": [
    {
     "name": "stdout",
     "output_type": "stream",
     "text": [
      "{0: 'a', 1: 'b', 2: 'c', 3: 'a', 4: 'x', 5: 'b', 6: 'a', 7: 'c', 8: 'b', 9: 'c', 10: 'y', 11: 'z'}\n",
      "{'a': [0, 3, 6], 'b': [1, 5, 8], 'c': [2, 7, 9]}\n",
      "Occurrences: 1\n"
     ]
    }
   ],
   "source": [
    "def findPattern(data, pattern, timings, indices):\n",
    "    # Initialize data structures\n",
    "    window = []  # Sliding window to store data\n",
    "    pattern_indices = {char: [] for char in pattern if char.isalpha()}  # Mapping of characters to indices\n",
    "\n",
    "    for idx, char in enumerate(data):\n",
    "        if char in pattern_indices:\n",
    "            pattern_indices[char].append(idx)\n",
    "    print(pattern_indices)\n",
    "    def check_pattern_occurrence():\n",
    "        \"\"\"\n",
    "        Check if the sliding window contains the specified pattern with correct timestamp differences.\n",
    "        \"\"\"\n",
    "        occurrence_count = 0\n",
    "        if all(len(pattern_indices[char]) <= len(indices) for char in pattern_indices):\n",
    "            # Check if there are enough indices for each character in the pattern\n",
    "            timestamp_diff_a = timings[pattern_indices['a'][-1]] - timings[pattern_indices['a'][0]]\n",
    "            timestamp_diff_b = timings[pattern_indices['b'][-1]] - timings[pattern_indices['b'][0]]\n",
    "            timestamp_diff_c = timings[pattern_indices['c'][-1]] - timings[pattern_indices['c'][0]]\n",
    "\n",
    "            if timestamp_diff_a == 6 and timestamp_diff_b == 7 and timestamp_diff_c == 7:\n",
    "                occurrence_count += 1\n",
    "\n",
    "        return occurrence_count\n",
    "\n",
    "    occurrences = 0\n",
    "\n",
    "    for idx, char in enumerate(data):\n",
    "        window.append(char)\n",
    "        while len(window) >= len(pattern):\n",
    "            # Check if the sliding window contains the specified pattern\n",
    "            occurrences += check_pattern_occurrence()\n",
    "            window.pop(0)\n",
    "\n",
    "    return occurrences\n",
    "\n",
    "# Example usage:\n",
    "data = \"abcaxbacbcyz\"\n",
    "pattern = \"a[2]b[1]c[0]\"\n",
    "timings = [1, 2, 3, 4, 5, 6, 7, 8, 9, 10,11,12]\n",
    "indices = {index: char for index, char in enumerate(data)}\n",
    "print(indices)\n",
    "occurrences = findPattern(data, pattern, timings, indices)\n",
    "print(\"Occurrences:\", occurrences)\n"
   ]
  },
  {
   "cell_type": "code",
   "execution_count": null,
   "metadata": {},
   "outputs": [],
   "source": []
  }
 ],
 "metadata": {
  "kernelspec": {
   "display_name": "Python 3.10.12 64-bit",
   "language": "python",
   "name": "python3"
  },
  "language_info": {
   "codemirror_mode": {
    "name": "ipython",
    "version": 3
   },
   "file_extension": ".py",
   "mimetype": "text/x-python",
   "name": "python",
   "nbconvert_exporter": "python",
   "pygments_lexer": "ipython3",
   "version": "3.10.12"
  },
  "orig_nbformat": 4,
  "vscode": {
   "interpreter": {
    "hash": "e7370f93d1d0cde622a1f8e1c04877d8463912d04d973331ad4851f04de6915a"
   }
  }
 },
 "nbformat": 4,
 "nbformat_minor": 2
}

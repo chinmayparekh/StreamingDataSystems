{
 "cells": [
  {
   "cell_type": "code",
   "execution_count": 139,
   "metadata": {},
   "outputs": [],
   "source": [
    "import os\n",
    "import csv\n",
    "import time\n",
    "import re\n",
    "import datetime\n",
    "from threading import Lock\n",
    "from datetime import timedelta"
   ]
  },
  {
   "cell_type": "code",
   "execution_count": 140,
   "metadata": {},
   "outputs": [],
   "source": [
    "data =  \"CBCBCAABACBCABBCBAACCCAABAAABCACAAACCCBCABCCACBABBCBBBCCBBBACBCBBBCACCAACCCABABCCCCCCABAACBBCACBCCBACBCBAABBACAACCABABACAABABCBBBCCABABBCCCBACAACCACCCACAABACCCCBBBCBAABAAACACCBBABCCBABCCACBCBB\"\n",
    "timings =  [datetime.datetime(2023, 9, 13, 16, 49, 32), datetime.datetime(2023, 9, 13, 16, 49, 32), datetime.datetime(2023, 9, 13, 16, 49, 32), datetime.datetime(2023, 9, 13, 16, 49, 32), datetime.datetime(2023, 9, 13, 16, 49, 32), datetime.datetime(2023, 9, 13, 16, 49, 32), datetime.datetime(2023, 9, 13, 16, 49, 32), datetime.datetime(2023, 9, 13, 16, 49, 32), datetime.datetime(2023, 9, 13, 16, 49, 32), datetime.datetime(2023, 9, 13, 16, 49, 32), datetime.datetime(2023, 9, 13, 16, 49, 32), datetime.datetime(2023, 9, 13, 16, 49, 32), datetime.datetime(2023, 9, 13, 16, 49, 32), datetime.datetime(2023, 9, 13, 16, 49, 32), datetime.datetime(2023, 9, 13, 16, 49, 32), datetime.datetime(2023, 9, 13, 16, 49, 32), datetime.datetime(2023, 9, 13, 16, 49, 32), datetime.datetime(2023, 9, 13, 16, 49, 32), datetime.datetime(2023, 9, 13, 16, 49, 32), datetime.datetime(2023, 9, 13, 16, 49, 32), datetime.datetime(2023, 9, 13, 16, 49, 33), datetime.datetime(2023, 9, 13, 16, 49, 33), datetime.datetime(2023, 9, 13, 16, 49, 33), datetime.datetime(2023, 9, 13, 16, 49, 33), datetime.datetime(2023, 9, 13, 16, 49, 33), datetime.datetime(2023, 9, 13, 16, 49, 33), datetime.datetime(2023, 9, 13, 16, 49, 33), datetime.datetime(2023, 9, 13, 16, 49, 33), datetime.datetime(2023, 9, 13, 16, 49, 33), datetime.datetime(2023, 9, 13, 16, 49, 33), datetime.datetime(2023, 9, 13, 16, 49, 33), datetime.datetime(2023, 9, 13, 16, 49, 33), datetime.datetime(2023, 9, 13, 16, 49, 33), datetime.datetime(2023, 9, 13, 16, 49, 33), datetime.datetime(2023, 9, 13, 16, 49, 33), datetime.datetime(2023, 9, 13, 16, 49, 33), datetime.datetime(2023, 9, 13, 16, 49, 33), datetime.datetime(2023, 9, 13, 16, 49, 33), datetime.datetime(2023, 9, 13, 16, 49, 33), datetime.datetime(2023, 9, 13, 16, 49, 33), datetime.datetime(2023, 9, 13, 16, 49, 33), datetime.datetime(2023, 9, 13, 16, 49, 34), datetime.datetime(2023, 9, 13, 16, 49, 34), datetime.datetime(2023, 9, 13, 16, 49, 34), datetime.datetime(2023, 9, 13, 16, 49, 34), datetime.datetime(2023, 9, 13, 16, 49, 34), datetime.datetime(2023, 9, 13, 16, 49, 34), datetime.datetime(2023, 9, 13, 16, 49, 34), datetime.datetime(2023, 9, 13, 16, 49, 34), datetime.datetime(2023, 9, 13, 16, 49, 34), datetime.datetime(2023, 9, 13, 16, 49, 34), datetime.datetime(2023, 9, 13, 16, 49, 34), datetime.datetime(2023, 9, 13, 16, 49, 34), datetime.datetime(2023, 9, 13, 16, 49, 34), datetime.datetime(2023, 9, 13, 16, 49, 34), datetime.datetime(2023, 9, 13, 16, 49, 34), datetime.datetime(2023, 9, 13, 16, 49, 34), datetime.datetime(2023, 9, 13, 16, 49, 34), datetime.datetime(2023, 9, 13, 16, 49, 34), datetime.datetime(2023, 9, 13, 16, 49, 34), datetime.datetime(2023, 9, 13, 16, 49, 34), datetime.datetime(2023, 9, 13, 16, 49, 34), datetime.datetime(2023, 9, 13, 16, 49, 35), datetime.datetime(2023, 9, 13, 16, 49, 35), datetime.datetime(2023, 9, 13, 16, 49, 35), datetime.datetime(2023, 9, 13, 16, 49, 35), datetime.datetime(2023, 9, 13, 16, 49, 35), datetime.datetime(2023, 9, 13, 16, 49, 35), datetime.datetime(2023, 9, 13, 16, 49, 35), datetime.datetime(2023, 9, 13, 16, 49, 35), datetime.datetime(2023, 9, 13, 16, 49, 35), datetime.datetime(2023, 9, 13, 16, 49, 35), datetime.datetime(2023, 9, 13, 16, 49, 35), datetime.datetime(2023, 9, 13, 16, 49, 35), datetime.datetime(2023, 9, 13, 16, 49, 35), datetime.datetime(2023, 9, 13, 16, 49, 35), datetime.datetime(2023, 9, 13, 16, 49, 35), datetime.datetime(2023, 9, 13, 16, 49, 35), datetime.datetime(2023, 9, 13, 16, 49, 35), datetime.datetime(2023, 9, 13, 16, 49, 36), datetime.datetime(2023, 9, 13, 16, 49, 36), datetime.datetime(2023, 9, 13, 16, 49, 36), datetime.datetime(2023, 9, 13, 16, 49, 36), datetime.datetime(2023, 9, 13, 16, 49, 36), datetime.datetime(2023, 9, 13, 16, 49, 36), datetime.datetime(2023, 9, 13, 16, 49, 36), datetime.datetime(2023, 9, 13, 16, 49, 36), datetime.datetime(2023, 9, 13, 16, 49, 36), datetime.datetime(2023, 9, 13, 16, 49, 36), datetime.datetime(2023, 9, 13, 16, 49, 36), datetime.datetime(2023, 9, 13, 16, 49, 36), datetime.datetime(2023, 9, 13, 16, 49, 36), datetime.datetime(2023, 9, 13, 16, 49, 36), datetime.datetime(2023, 9, 13, 16, 49, 36), datetime.datetime(2023, 9, 13, 16, 49, 36), datetime.datetime(2023, 9, 13, 16, 49, 36), datetime.datetime(2023, 9, 13, 16, 49, 36), datetime.datetime(2023, 9, 13, 16, 49, 36), datetime.datetime(2023, 9, 13, 16, 49, 37), datetime.datetime(2023, 9, 13, 16, 49, 37), datetime.datetime(2023, 9, 13, 16, 49, 37), datetime.datetime(2023, 9, 13, 16, 49, 37), datetime.datetime(2023, 9, 13, 16, 49, 37), datetime.datetime(2023, 9, 13, 16, 49, 37), datetime.datetime(2023, 9, 13, 16, 49, 37), datetime.datetime(2023, 9, 13, 16, 49, 37), datetime.datetime(2023, 9, 13, 16, 49, 37), datetime.datetime(2023, 9, 13, 16, 49, 37), datetime.datetime(2023, 9, 13, 16, 49, 37), datetime.datetime(2023, 9, 13, 16, 49, 37), datetime.datetime(2023, 9, 13, 16, 49, 37), datetime.datetime(2023, 9, 13, 16, 49, 37), datetime.datetime(2023, 9, 13, 16, 49, 37), datetime.datetime(2023, 9, 13, 16, 49, 37), datetime.datetime(2023, 9, 13, 16, 49, 37), datetime.datetime(2023, 9, 13, 16, 49, 37), datetime.datetime(2023, 9, 13, 16, 49, 37), datetime.datetime(2023, 9, 13, 16, 49, 37), datetime.datetime(2023, 9, 13, 16, 49, 37), datetime.datetime(2023, 9, 13, 16, 49, 37), datetime.datetime(2023, 9, 13, 16, 49, 37), datetime.datetime(2023, 9, 13, 16, 49, 38), datetime.datetime(2023, 9, 13, 16, 49, 38), datetime.datetime(2023, 9, 13, 16, 49, 38), datetime.datetime(2023, 9, 13, 16, 49, 38), datetime.datetime(2023, 9, 13, 16, 49, 38), datetime.datetime(2023, 9, 13, 16, 49, 38), datetime.datetime(2023, 9, 13, 16, 49, 38), datetime.datetime(2023, 9, 13, 16, 49, 38), datetime.datetime(2023, 9, 13, 16, 49, 38), datetime.datetime(2023, 9, 13, 16, 49, 38), datetime.datetime(2023, 9, 13, 16, 49, 38), datetime.datetime(2023, 9, 13, 16, 49, 38), datetime.datetime(2023, 9, 13, 16, 49, 38), datetime.datetime(2023, 9, 13, 16, 49, 38), datetime.datetime(2023, 9, 13, 16, 49, 38), datetime.datetime(2023, 9, 13, 16, 49, 38), datetime.datetime(2023, 9, 13, 16, 49, 38), datetime.datetime(2023, 9, 13, 16, 49, 38), datetime.datetime(2023, 9, 13, 16, 49, 39), datetime.datetime(2023, 9, 13, 16, 49, 39), datetime.datetime(2023, 9, 13, 16, 49, 39), datetime.datetime(2023, 9, 13, 16, 49, 39), datetime.datetime(2023, 9, 13, 16, 49, 39), datetime.datetime(2023, 9, 13, 16, 49, 39), datetime.datetime(2023, 9, 13, 16, 49, 39), datetime.datetime(2023, 9, 13, 16, 49, 39), datetime.datetime(2023, 9, 13, 16, 49, 39), datetime.datetime(2023, 9, 13, 16, 49, 39), datetime.datetime(2023, 9, 13, 16, 49, 39), datetime.datetime(2023, 9, 13, 16, 49, 39), datetime.datetime(2023, 9, 13, 16, 49, 39), datetime.datetime(2023, 9, 13, 16, 49, 39), datetime.datetime(2023, 9, 13, 16, 49, 39), datetime.datetime(2023, 9, 13, 16, 49, 39), datetime.datetime(2023, 9, 13, 16, 49, 40), datetime.datetime(2023, 9, 13, 16, 49, 40), datetime.datetime(2023, 9, 13, 16, 49, 40), datetime.datetime(2023, 9, 13, 16, 49, 40), datetime.datetime(2023, 9, 13, 16, 49, 40), datetime.datetime(2023, 9, 13, 16, 49, 40), datetime.datetime(2023, 9, 13, 16, 49, 40), datetime.datetime(2023, 9, 13, 16, 49, 40), datetime.datetime(2023, 9, 13, 16, 49, 40), datetime.datetime(2023, 9, 13, 16, 49, 40), datetime.datetime(2023, 9, 13, 16, 49, 40), datetime.datetime(2023, 9, 13, 16, 49, 40), datetime.datetime(2023, 9, 13, 16, 49, 40), datetime.datetime(2023, 9, 13, 16, 49, 40), datetime.datetime(2023, 9, 13, 16, 49, 40), datetime.datetime(2023, 9, 13, 16, 49, 40), datetime.datetime(2023, 9, 13, 16, 49, 40), datetime.datetime(2023, 9, 13, 16, 49, 40), datetime.datetime(2023, 9, 13, 16, 49, 41), datetime.datetime(2023, 9, 13, 16, 49, 41), datetime.datetime(2023, 9, 13, 16, 49, 41), datetime.datetime(2023, 9, 13, 16, 49, 41), datetime.datetime(2023, 9, 13, 16, 49, 41), datetime.datetime(2023, 9, 13, 16, 49, 41), datetime.datetime(2023, 9, 13, 16, 49, 41), datetime.datetime(2023, 9, 13, 16, 49, 41), datetime.datetime(2023, 9, 13, 16, 49, 41), datetime.datetime(2023, 9, 13, 16, 49, 41), datetime.datetime(2023, 9, 13, 16, 49, 41), datetime.datetime(2023, 9, 13, 16, 49, 41), datetime.datetime(2023, 9, 13, 16, 49, 41), datetime.datetime(2023, 9, 13, 16, 49, 41), datetime.datetime(2023, 9, 13, 16, 49, 41), datetime.datetime(2023, 9, 13, 16, 49, 41), datetime.datetime(2023, 9, 13, 16, 49, 41), datetime.datetime(2023, 9, 13, 16, 49, 41), datetime.datetime(2023, 9, 13, 16, 49, 41)]"
   ]
  },
  {
   "cell_type": "code",
   "execution_count": 141,
   "metadata": {},
   "outputs": [],
   "source": [
    "# data =  \"ABCBCCBACACAABBBBABAACBBABAACBBAAABCABACCBBBBBACCABBBCBACBCBBBBCCAACAAAACACBCBAABCBABACCABBACBACBBCBBCCBBABCBBACAAAABBBBBBAACCAABACCCCCACCAAACBCACBCBBCABBBCBAABBCCBAAAACABCABCBACC\"\n",
    "# timings =  [datetime.datetime(2023, 9, 13, 16, 49, 42), datetime.datetime(2023, 9, 13, 16, 49, 42), datetime.datetime(2023, 9, 13, 16, 49, 42), datetime.datetime(2023, 9, 13, 16, 49, 42), datetime.datetime(2023, 9, 13, 16, 49, 42), datetime.datetime(2023, 9, 13, 16, 49, 42), datetime.datetime(2023, 9, 13, 16, 49, 42), datetime.datetime(2023, 9, 13, 16, 49, 42), datetime.datetime(2023, 9, 13, 16, 49, 42), datetime.datetime(2023, 9, 13, 16, 49, 42), datetime.datetime(2023, 9, 13, 16, 49, 42), datetime.datetime(2023, 9, 13, 16, 49, 42), datetime.datetime(2023, 9, 13, 16, 49, 42), datetime.datetime(2023, 9, 13, 16, 49, 42), datetime.datetime(2023, 9, 13, 16, 49, 42), datetime.datetime(2023, 9, 13, 16, 49, 42), datetime.datetime(2023, 9, 13, 16, 49, 42), datetime.datetime(2023, 9, 13, 16, 49, 43), datetime.datetime(2023, 9, 13, 16, 49, 43), datetime.datetime(2023, 9, 13, 16, 49, 43), datetime.datetime(2023, 9, 13, 16, 49, 43), datetime.datetime(2023, 9, 13, 16, 49, 43), datetime.datetime(2023, 9, 13, 16, 49, 43), datetime.datetime(2023, 9, 13, 16, 49, 43), datetime.datetime(2023, 9, 13, 16, 49, 43), datetime.datetime(2023, 9, 13, 16, 49, 43), datetime.datetime(2023, 9, 13, 16, 49, 43), datetime.datetime(2023, 9, 13, 16, 49, 43), datetime.datetime(2023, 9, 13, 16, 49, 43), datetime.datetime(2023, 9, 13, 16, 49, 43), datetime.datetime(2023, 9, 13, 16, 49, 43), datetime.datetime(2023, 9, 13, 16, 49, 43), datetime.datetime(2023, 9, 13, 16, 49, 43), datetime.datetime(2023, 9, 13, 16, 49, 43), datetime.datetime(2023, 9, 13, 16, 49, 43), datetime.datetime(2023, 9, 13, 16, 49, 43), datetime.datetime(2023, 9, 13, 16, 49, 43), datetime.datetime(2023, 9, 13, 16, 49, 43), datetime.datetime(2023, 9, 13, 16, 49, 43), datetime.datetime(2023, 9, 13, 16, 49, 43), datetime.datetime(2023, 9, 13, 16, 49, 43), datetime.datetime(2023, 9, 13, 16, 49, 43), datetime.datetime(2023, 9, 13, 16, 49, 44), datetime.datetime(2023, 9, 13, 16, 49, 44), datetime.datetime(2023, 9, 13, 16, 49, 44), datetime.datetime(2023, 9, 13, 16, 49, 44), datetime.datetime(2023, 9, 13, 16, 49, 44), datetime.datetime(2023, 9, 13, 16, 49, 44), datetime.datetime(2023, 9, 13, 16, 49, 44), datetime.datetime(2023, 9, 13, 16, 49, 44), datetime.datetime(2023, 9, 13, 16, 49, 44), datetime.datetime(2023, 9, 13, 16, 49, 44), datetime.datetime(2023, 9, 13, 16, 49, 44), datetime.datetime(2023, 9, 13, 16, 49, 44), datetime.datetime(2023, 9, 13, 16, 49, 44), datetime.datetime(2023, 9, 13, 16, 49, 44), datetime.datetime(2023, 9, 13, 16, 49, 44), datetime.datetime(2023, 9, 13, 16, 49, 44), datetime.datetime(2023, 9, 13, 16, 49, 44), datetime.datetime(2023, 9, 13, 16, 49, 45), datetime.datetime(2023, 9, 13, 16, 49, 45), datetime.datetime(2023, 9, 13, 16, 49, 45), datetime.datetime(2023, 9, 13, 16, 49, 45), datetime.datetime(2023, 9, 13, 16, 49, 45), datetime.datetime(2023, 9, 13, 16, 49, 45), datetime.datetime(2023, 9, 13, 16, 49, 45), datetime.datetime(2023, 9, 13, 16, 49, 45), datetime.datetime(2023, 9, 13, 16, 49, 45), datetime.datetime(2023, 9, 13, 16, 49, 45), datetime.datetime(2023, 9, 13, 16, 49, 45), datetime.datetime(2023, 9, 13, 16, 49, 45), datetime.datetime(2023, 9, 13, 16, 49, 45), datetime.datetime(2023, 9, 13, 16, 49, 45), datetime.datetime(2023, 9, 13, 16, 49, 45), datetime.datetime(2023, 9, 13, 16, 49, 45), datetime.datetime(2023, 9, 13, 16, 49, 45), datetime.datetime(2023, 9, 13, 16, 49, 45), datetime.datetime(2023, 9, 13, 16, 49, 45), datetime.datetime(2023, 9, 13, 16, 49, 45), datetime.datetime(2023, 9, 13, 16, 49, 45), datetime.datetime(2023, 9, 13, 16, 49, 45), datetime.datetime(2023, 9, 13, 16, 49, 45), datetime.datetime(2023, 9, 13, 16, 49, 46), datetime.datetime(2023, 9, 13, 16, 49, 46), datetime.datetime(2023, 9, 13, 16, 49, 46), datetime.datetime(2023, 9, 13, 16, 49, 46), datetime.datetime(2023, 9, 13, 16, 49, 46), datetime.datetime(2023, 9, 13, 16, 49, 46), datetime.datetime(2023, 9, 13, 16, 49, 46), datetime.datetime(2023, 9, 13, 16, 49, 46), datetime.datetime(2023, 9, 13, 16, 49, 46), datetime.datetime(2023, 9, 13, 16, 49, 46), datetime.datetime(2023, 9, 13, 16, 49, 46), datetime.datetime(2023, 9, 13, 16, 49, 46), datetime.datetime(2023, 9, 13, 16, 49, 46), datetime.datetime(2023, 9, 13, 16, 49, 46), datetime.datetime(2023, 9, 13, 16, 49, 47), datetime.datetime(2023, 9, 13, 16, 49, 47), datetime.datetime(2023, 9, 13, 16, 49, 47), datetime.datetime(2023, 9, 13, 16, 49, 47), datetime.datetime(2023, 9, 13, 16, 49, 47), datetime.datetime(2023, 9, 13, 16, 49, 47), datetime.datetime(2023, 9, 13, 16, 49, 47), datetime.datetime(2023, 9, 13, 16, 49, 47), datetime.datetime(2023, 9, 13, 16, 49, 47), datetime.datetime(2023, 9, 13, 16, 49, 47), datetime.datetime(2023, 9, 13, 16, 49, 47), datetime.datetime(2023, 9, 13, 16, 49, 47), datetime.datetime(2023, 9, 13, 16, 49, 47), datetime.datetime(2023, 9, 13, 16, 49, 47), datetime.datetime(2023, 9, 13, 16, 49, 47), datetime.datetime(2023, 9, 13, 16, 49, 48), datetime.datetime(2023, 9, 13, 16, 49, 48), datetime.datetime(2023, 9, 13, 16, 49, 48), datetime.datetime(2023, 9, 13, 16, 49, 48), datetime.datetime(2023, 9, 13, 16, 49, 48), datetime.datetime(2023, 9, 13, 16, 49, 48), datetime.datetime(2023, 9, 13, 16, 49, 48), datetime.datetime(2023, 9, 13, 16, 49, 48), datetime.datetime(2023, 9, 13, 16, 49, 48), datetime.datetime(2023, 9, 13, 16, 49, 48), datetime.datetime(2023, 9, 13, 16, 49, 48), datetime.datetime(2023, 9, 13, 16, 49, 48), datetime.datetime(2023, 9, 13, 16, 49, 48), datetime.datetime(2023, 9, 13, 16, 49, 48), datetime.datetime(2023, 9, 13, 16, 49, 49), datetime.datetime(2023, 9, 13, 16, 49, 49), datetime.datetime(2023, 9, 13, 16, 49, 49), datetime.datetime(2023, 9, 13, 16, 49, 49), datetime.datetime(2023, 9, 13, 16, 49, 49), datetime.datetime(2023, 9, 13, 16, 49, 49), datetime.datetime(2023, 9, 13, 16, 49, 49), datetime.datetime(2023, 9, 13, 16, 49, 49), datetime.datetime(2023, 9, 13, 16, 49, 49), datetime.datetime(2023, 9, 13, 16, 49, 49), datetime.datetime(2023, 9, 13, 16, 49, 49), datetime.datetime(2023, 9, 13, 16, 49, 49), datetime.datetime(2023, 9, 13, 16, 49, 49), datetime.datetime(2023, 9, 13, 16, 49, 49), datetime.datetime(2023, 9, 13, 16, 49, 49), datetime.datetime(2023, 9, 13, 16, 49, 49), datetime.datetime(2023, 9, 13, 16, 49, 49), datetime.datetime(2023, 9, 13, 16, 49, 49), datetime.datetime(2023, 9, 13, 16, 49, 49), datetime.datetime(2023, 9, 13, 16, 49, 49), datetime.datetime(2023, 9, 13, 16, 49, 49), datetime.datetime(2023, 9, 13, 16, 49, 49), datetime.datetime(2023, 9, 13, 16, 49, 50), datetime.datetime(2023, 9, 13, 16, 49, 50), datetime.datetime(2023, 9, 13, 16, 49, 50), datetime.datetime(2023, 9, 13, 16, 49, 50), datetime.datetime(2023, 9, 13, 16, 49, 50), datetime.datetime(2023, 9, 13, 16, 49, 50), datetime.datetime(2023, 9, 13, 16, 49, 50), datetime.datetime(2023, 9, 13, 16, 49, 50), datetime.datetime(2023, 9, 13, 16, 49, 50), datetime.datetime(2023, 9, 13, 16, 49, 50), datetime.datetime(2023, 9, 13, 16, 49, 50), datetime.datetime(2023, 9, 13, 16, 49, 50), datetime.datetime(2023, 9, 13, 16, 49, 50), datetime.datetime(2023, 9, 13, 16, 49, 50), datetime.datetime(2023, 9, 13, 16, 49, 50), datetime.datetime(2023, 9, 13, 16, 49, 50), datetime.datetime(2023, 9, 13, 16, 49, 51), datetime.datetime(2023, 9, 13, 16, 49, 51), datetime.datetime(2023, 9, 13, 16, 49, 51), datetime.datetime(2023, 9, 13, 16, 49, 51), datetime.datetime(2023, 9, 13, 16, 49, 51), datetime.datetime(2023, 9, 13, 16, 49, 51), datetime.datetime(2023, 9, 13, 16, 49, 51), datetime.datetime(2023, 9, 13, 16, 49, 51), datetime.datetime(2023, 9, 13, 16, 49, 51), datetime.datetime(2023, 9, 13, 16, 49, 51), datetime.datetime(2023, 9, 13, 16, 49, 51), datetime.datetime(2023, 9, 13, 16, 49, 51), datetime.datetime(2023, 9, 13, 16, 49, 51), datetime.datetime(2023, 9, 13, 16, 49, 51), datetime.datetime(2023, 9, 13, 16, 49, 51), datetime.datetime(2023, 9, 13, 16, 49, 51)]"
   ]
  },
  {
   "cell_type": "code",
   "execution_count": 142,
   "metadata": {},
   "outputs": [],
   "source": [
    "first_timing = timings[0]\n",
    "time_diffs_seconds = [(timing - first_timing).total_seconds() for timing in timings]\n",
    "timings=time_diffs_seconds\n",
    "indices=list(range(len(data)))"
   ]
  },
  {
   "cell_type": "code",
   "execution_count": 143,
   "metadata": {},
   "outputs": [
    {
     "name": "stdout",
     "output_type": "stream",
     "text": [
      "Result String: AA\n",
      "Count Dictionary: {'A': 8}\n"
     ]
    }
   ],
   "source": [
    "pattern = \"A[8]\"\n",
    "result = []\n",
    "count_dict = {}\n",
    "\n",
    "for char in pattern:\n",
    "    if char.isalpha():\n",
    "        result.append(char)\n",
    "    elif char.isdigit():\n",
    "        if result:\n",
    "            count_dict[result[-1]] = int(char)\n",
    "\n",
    "result_string = ''.join(result) + ''.join(result[::-1])\n",
    "\n",
    "print(\"Result String:\", result_string)\n",
    "print(\"Count Dictionary:\", count_dict)\n"
   ]
  },
  {
   "cell_type": "code",
   "execution_count": 144,
   "metadata": {},
   "outputs": [],
   "source": [
    "pattern=\"\"\n",
    "window_size=0"
   ]
  },
  {
   "cell_type": "code",
   "execution_count": 145,
   "metadata": {},
   "outputs": [],
   "source": [
    "for k,v in count_dict.items():\n",
    "    pattern=k\n",
    "    window_size=v"
   ]
  },
  {
   "cell_type": "code",
   "execution_count": 146,
   "metadata": {},
   "outputs": [
    {
     "data": {
      "text/plain": [
       "('A', 8)"
      ]
     },
     "execution_count": 146,
     "metadata": {},
     "output_type": "execute_result"
    }
   ],
   "source": [
    "pattern,window_size"
   ]
  },
  {
   "cell_type": "code",
   "execution_count": 147,
   "metadata": {},
   "outputs": [],
   "source": [
    "def compute(data, timings, indices, pattern):\n",
    "    data_count = {}\n",
    "    \n",
    "    for index in indices:\n",
    "        timing = int(timings[index])\n",
    "        \n",
    "        if timing not in data_count:\n",
    "            data_count[timing] = 0\n",
    "        \n",
    "        if data[index] == pattern:\n",
    "            data_count[timing] += 1\n",
    "    return data_count\n",
    "    print(data_count)\n",
    "\n"
   ]
  },
  {
   "cell_type": "code",
   "execution_count": 148,
   "metadata": {},
   "outputs": [
    {
     "data": {
      "text/plain": [
       "{0: 6, 1: 10, 2: 3, 3: 5, 4: 4, 5: 10, 6: 4, 7: 7, 8: 7, 9: 3}"
      ]
     },
     "execution_count": 148,
     "metadata": {},
     "output_type": "execute_result"
    }
   ],
   "source": [
    "data=compute(data,timings,indices,pattern)\n",
    "data"
   ]
  },
  {
   "cell_type": "markdown",
   "metadata": {},
   "source": [
    "Mapping 0:3 and 2:4\n",
    "Value = 4**3"
   ]
  },
  {
   "cell_type": "code",
   "execution_count": 149,
   "metadata": {},
   "outputs": [
    {
     "name": "stdout",
     "output_type": "stream",
     "text": [
      "{0: 6, 1: 10, 2: 3, 3: 5, 4: 4, 5: 10, 6: 4, 7: 7}\n",
      "START 6\n",
      "Window 1:\n",
      "Key 0: Value 6\n",
      "Key 1: Value 10\n",
      "Key 2: Value 3\n",
      "Key 3: Value 5\n",
      "Key 4: Value 4\n",
      "Key 5: Value 10\n",
      "Key 6: Value 4\n",
      "Key 7: Value 7\n",
      "Result for Window 1: 258\n",
      "\n",
      "{1: 10, 2: 3, 3: 5, 4: 4, 5: 10, 6: 4, 7: 7, 8: 7}\n",
      "START 10\n",
      "Window 2:\n",
      "Key 1: Value 10\n",
      "Key 2: Value 3\n",
      "Key 3: Value 5\n",
      "Key 4: Value 4\n",
      "Key 5: Value 10\n",
      "Key 6: Value 4\n",
      "Key 7: Value 7\n",
      "Key 8: Value 7\n",
      "Result for Window 2: 400\n",
      "\n",
      "{2: 3, 3: 5, 4: 4, 5: 10, 6: 4, 7: 7, 8: 7, 9: 3}\n",
      "START 3\n",
      "Window 3:\n",
      "Key 2: Value 3\n",
      "Key 3: Value 5\n",
      "Key 4: Value 4\n",
      "Key 5: Value 10\n",
      "Key 6: Value 4\n",
      "Key 7: Value 7\n",
      "Key 8: Value 7\n",
      "Key 9: Value 3\n",
      "Result for Window 3: 120\n",
      "\n",
      "Final Result: [258, 400, 120]\n"
     ]
    }
   ],
   "source": [
    "# input_x = 5\n",
    "# window_size = 5\n",
    "result = []\n",
    "\n",
    "for i in range(len(data) - window_size + 1):\n",
    "    window_data = {k: v for k, v in data.items() if k in range(i, i + window_size)}\n",
    "    print(window_data)\n",
    "    window_result = 0  # Initialize the window result to zero\n",
    "    start=window_data[i]\n",
    "    print(\"START\",start)\n",
    "    # Calculate the result for the current window\n",
    "    for k, v in window_data.items():\n",
    "        if(k==i):\n",
    "            continue\n",
    "        product = v *start\n",
    "        # for k2, v2 in window_data.items():\n",
    "        #     product *= v2\n",
    "        window_result += product\n",
    "    \n",
    "    result.append(window_result)\n",
    "\n",
    "    # Print the window data and the corresponding result\n",
    "    print(f\"Window {i+1}:\")\n",
    "    for k, v in window_data.items():\n",
    "        print(f\"Key {k}: Value {v}\")\n",
    "    print(f\"Result for Window {i+1}: {window_result}\")\n",
    "    print()\n",
    "\n",
    "print(\"Final Result:\", result)\n",
    "\n",
    "\n",
    "\n",
    "\n"
   ]
  },
  {
   "cell_type": "code",
   "execution_count": null,
   "metadata": {},
   "outputs": [],
   "source": []
  }
 ],
 "metadata": {
  "kernelspec": {
   "display_name": "Python 3.10.12 64-bit",
   "language": "python",
   "name": "python3"
  },
  "language_info": {
   "codemirror_mode": {
    "name": "ipython",
    "version": 3
   },
   "file_extension": ".py",
   "mimetype": "text/x-python",
   "name": "python",
   "nbconvert_exporter": "python",
   "pygments_lexer": "ipython3",
   "version": "3.10.12"
  },
  "orig_nbformat": 4,
  "vscode": {
   "interpreter": {
    "hash": "e7370f93d1d0cde622a1f8e1c04877d8463912d04d973331ad4851f04de6915a"
   }
  }
 },
 "nbformat": 4,
 "nbformat_minor": 2
}
